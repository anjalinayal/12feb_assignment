{
 "cells": [
  {
   "cell_type": "markdown",
   "id": "ed891b47-2fb8-48a6-b8ca-70b3c0732148",
   "metadata": {},
   "source": [
    "Q1\n",
    "Ans:- An exception in Python is an incident that happens while executing a program that causes the regular course of the program's commands to be disrupted. \n",
    "A syntax error is a mistake in the structure of the program that prevents it from running, while an exception is an abnormal event that occurs during the execution of the program and can be handled to allow the program to continue running."
   ]
  },
  {
   "cell_type": "markdown",
   "id": "7479cd34-c46c-4ef1-9754-38eba00ce526",
   "metadata": {},
   "source": [
    "Q2\n",
    "Ans:- if exception is not handled it will disrupt the program command and the program will not be executed.We can handle exception by try and except clause which will ensure that if an exception occures in a block of program it will not disrupt the complete program and the program will continue running.\n"
   ]
  },
  {
   "cell_type": "code",
   "execution_count": 3,
   "id": "4262fad6-b712-4a46-b360-93eda897b5d5",
   "metadata": {},
   "outputs": [
    {
     "ename": "ZeroDivisionError",
     "evalue": "division by zero",
     "output_type": "error",
     "traceback": [
      "\u001b[0;31m---------------------------------------------------------------------------\u001b[0m",
      "\u001b[0;31mZeroDivisionError\u001b[0m                         Traceback (most recent call last)",
      "Cell \u001b[0;32mIn[3], line 1\u001b[0m\n\u001b[0;32m----> 1\u001b[0m a\u001b[38;5;241m=\u001b[39m\u001b[38;5;241;43m20\u001b[39;49m\u001b[38;5;241;43m/\u001b[39;49m\u001b[38;5;241;43m0\u001b[39;49m\n\u001b[1;32m      2\u001b[0m \u001b[38;5;28mprint\u001b[39m(a)\n",
      "\u001b[0;31mZeroDivisionError\u001b[0m: division by zero"
     ]
    }
   ],
   "source": [
    "a=20/0\n",
    "print(a)"
   ]
  },
  {
   "cell_type": "markdown",
   "id": "3c95c8f2-fbcd-47b3-a9d4-c1293785dc7a",
   "metadata": {},
   "source": [
    "Q3 Ans:- Try,except,else and final blocks are used to handle exceptions. The try block lets you test a block of code for errors. The except block lets you handle the error. The else block lets you execute code when there is no error. The finally block lets you execute code, regardless of the result of the try- and except blocks."
   ]
  },
  {
   "cell_type": "code",
   "execution_count": 2,
   "id": "2ed1cf2b-68d2-41ba-83d5-054edf9fbb98",
   "metadata": {},
   "outputs": [
    {
     "name": "stdout",
     "output_type": "stream",
     "text": [
      "exception occured division by zero\n"
     ]
    }
   ],
   "source": [
    "try:\n",
    "    a=20/0\n",
    "    print(a)\n",
    "except Exception as e:\n",
    "    print(\"exception occured\",e)"
   ]
  },
  {
   "cell_type": "markdown",
   "id": "99b0f431-9954-47d0-903f-b4e2dc11fd23",
   "metadata": {},
   "source": [
    "Q4 (a) Try and else"
   ]
  },
  {
   "cell_type": "code",
   "execution_count": 9,
   "id": "41e7cd6c-58b8-4179-a48d-d2f833abaa22",
   "metadata": {},
   "outputs": [],
   "source": [
    "try:\n",
    "    f=open(\"test10.txt\",\"w\")\n",
    "except Exception as e:\n",
    "    print(\"exception occured\",e)\n",
    "else:\n",
    "    f.write(\"execute when no exception occure \")\n",
    "    f.close()"
   ]
  },
  {
   "cell_type": "markdown",
   "id": "508a0642-a42e-448b-80f8-051a0b6f7f69",
   "metadata": {},
   "source": [
    "(b) finally"
   ]
  },
  {
   "cell_type": "code",
   "execution_count": 5,
   "id": "7f9ec618-180e-4b5f-94b6-c1435af3e92a",
   "metadata": {},
   "outputs": [
    {
     "name": "stdout",
     "output_type": "stream",
     "text": [
      "exception occured [Errno 2] No such file or directory: 'test10.txt'\n",
      "will be executed any how\n"
     ]
    }
   ],
   "source": [
    "try:\n",
    "    f=open(\"test10.txt\",\"r\")\n",
    "except Exception as e:\n",
    "    print(\"exception occured\",e)\n",
    "finally:\n",
    "    print(\"will be executed any how\")"
   ]
  },
  {
   "cell_type": "markdown",
   "id": "7f7168ec-0cfa-48dc-bcbd-69cb8eb91e1a",
   "metadata": {},
   "source": [
    "(C) raise"
   ]
  },
  {
   "cell_type": "code",
   "execution_count": 2,
   "id": "bfa3e1ce-fc40-4a4f-92a7-d87022126dc6",
   "metadata": {},
   "outputs": [],
   "source": [
    "class emailvalidate(Exception):\n",
    "    def __init(self ,msg):\n",
    "        self.msg=msg\n",
    "\n",
    "def email_check(email):\n",
    "    if email.find(\"@\")==-1:\n",
    "        raise emailvalidate(\"invalid email id should contain @ \")\n",
    "    elif email.find(\".\")==-1:\n",
    "        raise emailvalidate(\"invalid email id should contain .\")\n",
    "    elif email.find(\"com\")==-1:\n",
    "        raise emailvalidate(\"invalid email id should contain com\")\n",
    "    else :\n",
    "        print(\"valid email id\")"
   ]
  },
  {
   "cell_type": "code",
   "execution_count": 3,
   "id": "dca9ec0c-40a3-4e7f-a93f-52b13ac9e1b7",
   "metadata": {},
   "outputs": [
    {
     "name": "stdin",
     "output_type": "stream",
     "text": [
      "enter your email id anu@gmail.com\n"
     ]
    },
    {
     "name": "stdout",
     "output_type": "stream",
     "text": [
      "valid email id\n"
     ]
    }
   ],
   "source": [
    "try:\n",
    "    email=input(\"enter your email id\")\n",
    "    email_check(email)\n",
    "except emailvalidate as e:\n",
    "    print(e)\n",
    "    "
   ]
  },
  {
   "cell_type": "markdown",
   "id": "797c50c9-5ac9-454b-aefa-063cd11fa043",
   "metadata": {},
   "source": [
    "Q5 Ans:- Custom exceptions are the exceptions which are user defined exceptions which user defines according to the requirement of the program\n",
    "Custom exceptions are required to raise and handle some validations in the program"
   ]
  },
  {
   "cell_type": "code",
   "execution_count": 4,
   "id": "2788a40b-ea1f-4d77-8058-e239a47d8951",
   "metadata": {},
   "outputs": [
    {
     "name": "stdin",
     "output_type": "stream",
     "text": [
      "enter your email id anjai\n"
     ]
    },
    {
     "name": "stdout",
     "output_type": "stream",
     "text": [
      "invalid email id should contain @ \n"
     ]
    }
   ],
   "source": [
    "class emailvalidate(Exception):\n",
    "    def __init(self ,msg):\n",
    "        self.msg=msg\n",
    "\n",
    "def email_check(email):\n",
    "    if email.find(\"@\")==-1:\n",
    "        raise emailvalidate(\"invalid email id should contain @ \")\n",
    "    elif email.find(\".\")==-1:\n",
    "        raise emailvalidate(\"invalid email id should contain .\")\n",
    "    elif email.find(\"com\")==-1:\n",
    "        raise emailvalidate(\"invalid email id should contain com\")\n",
    "    else :\n",
    "        print(\"valid email id\")\n",
    "\n",
    "try:\n",
    "    email=input(\"enter your email id\")\n",
    "    email_check(email)\n",
    "except emailvalidate as e:\n",
    "    print(e)\n",
    "    "
   ]
  },
  {
   "cell_type": "markdown",
   "id": "61b690b0-7228-4d65-a098-97994ad5bb81",
   "metadata": {},
   "source": [
    "Q6"
   ]
  },
  {
   "cell_type": "code",
   "execution_count": 5,
   "id": "b7bb3063-fe5e-48bb-95b8-6ea9f3fc6252",
   "metadata": {},
   "outputs": [
    {
     "name": "stdin",
     "output_type": "stream",
     "text": [
      "enter your email id anjali@gmail.\n"
     ]
    },
    {
     "name": "stdout",
     "output_type": "stream",
     "text": [
      "invalid email id should contain com\n"
     ]
    }
   ],
   "source": [
    "class emailvalidate(Exception):\n",
    "    def __init(self ,msg):\n",
    "        self.msg=msg\n",
    "\n",
    "def email_check(email):\n",
    "    if email.find(\"@\")==-1:\n",
    "        raise emailvalidate(\"invalid email id should contain @ \")\n",
    "    elif email.find(\".\")==-1:\n",
    "        raise emailvalidate(\"invalid email id should contain .\")\n",
    "    elif email.find(\"com\")==-1:\n",
    "        raise emailvalidate(\"invalid email id should contain com\")\n",
    "    else :\n",
    "        print(\"valid email id\")\n",
    "\n",
    "try:\n",
    "    email=input(\"enter your email id\")\n",
    "    email_check(email)\n",
    "except emailvalidate as e:\n",
    "    print(e)\n",
    "    "
   ]
  },
  {
   "cell_type": "code",
   "execution_count": null,
   "id": "2b7c1ad0-e4fb-47fa-9ecb-67b81a28b068",
   "metadata": {},
   "outputs": [],
   "source": []
  }
 ],
 "metadata": {
  "kernelspec": {
   "display_name": "Python 3 (ipykernel)",
   "language": "python",
   "name": "python3"
  },
  "language_info": {
   "codemirror_mode": {
    "name": "ipython",
    "version": 3
   },
   "file_extension": ".py",
   "mimetype": "text/x-python",
   "name": "python",
   "nbconvert_exporter": "python",
   "pygments_lexer": "ipython3",
   "version": "3.10.8"
  }
 },
 "nbformat": 4,
 "nbformat_minor": 5
}
